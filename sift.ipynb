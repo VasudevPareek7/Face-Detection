{
  "cells": [
    {
      "cell_type": "markdown",
      "metadata": {
        "id": "OKaU4G_Q5wVp"
      },
      "source": [
        "## Image Matching\n",
        "\n",
        "Image matching is an important concept in computer vision and object recognition. The images of the same subject can be acquired from different angles, lighting and scales. Therefore, it is best to find features that are descriptive and invariant to the aforementioned variations in order to categorize the images correctly.\n",
        "\n",
        "SIFT helps locate the local features in an image, commonly known as the ‘keypoints‘ of the image. These keypoints are scale & rotation invariant that can be used for various computer vision applications, like image matching, object detection, scene detection, etc.\n",
        "\n",
        "We can also use the keypoints generated using SIFT as features for the image during model training. The major advantage of SIFT features, over edge features or hog features, is that they are not affected by the size or orientation of the image."
      ]
    },
    {
      "cell_type": "code",
      "execution_count": null,
      "metadata": {
        "id": "B9XddePi5wVu"
      },
      "outputs": [],
      "source": [
        "import numpy as np\n",
        "import cv2\n",
        "from matplotlib import pyplot as plt\n",
        "import os\n",
        "from natsort import natsorted"
      ]
    },
    {
      "cell_type": "raw",
      "metadata": {
        "id": "GB-kmUaR5wVv"
      },
      "source": [
        "### Now, for each image, we are going to generate the SIFT features. First, we have to construct a SIFT object and then use the function detectAndCompute to get the keypoints. It will return two values – the keypoints and the descriptors.\n",
        "\n",
        "Next, match the features of each possible pair of images using match() from the BFmatcher (brute force match) module.\n",
        "\n"
      ]
    },
    {
      "cell_type": "code",
      "execution_count": null,
      "metadata": {
        "id": "Jcjy2cJC5wVw",
        "outputId": "f897907e-4415-4485-c1fa-ba8fa6a3a069"
      },
      "outputs": [
        {
          "name": "stderr",
          "output_type": "stream",
          "text": [
            "/home/saujas/anaconda3/lib/python3.7/site-packages/ipykernel_launcher.py:16: FutureWarning: elementwise comparison failed; returning scalar instead, but in the future will perform elementwise comparison\n",
            "  app.launch_new_instance()\n"
          ]
        },
        {
          "name": "stdout",
          "output_type": "stream",
          "text": [
            "s1_1.png s1_1.png 0.5911949685534591\n",
            "s1_1.png s1_2.jpg 0.0880503144654088\n",
            "s1_1.png s2_1.jpeg 0.006289308176100629\n",
            "s1_1.png s2_2.png 0.0\n",
            "s1_2.jpg s1_1.png 0.3081761006289308\n",
            "s1_2.jpg s1_2.jpg 1.0\n",
            "s1_2.jpg s2_1.jpeg 0.007772020725388601\n",
            "s1_2.jpg s2_2.png 0.0\n",
            "s2_1.jpeg s1_1.png 0.006289308176100629\n",
            "s2_1.jpeg s1_2.jpg 0.012953367875647668\n",
            "s2_1.jpeg s2_1.jpeg 1.0\n",
            "s2_1.jpeg s2_2.png 0.0\n",
            "s2_2.png s1_1.png 0.018867924528301886\n",
            "s2_2.png s1_2.jpg 0.004651162790697674\n",
            "s2_2.png s2_1.jpeg 0.013953488372093023\n",
            "s2_2.png s2_2.png 0.9813953488372092\n"
          ]
        }
      ],
      "source": [
        "file1 = open(\"/home/saujas/Desktop/temp.txt\", \"w\")\n",
        "path1 = '/home/saujas/Desktop/dummy/'\n",
        "\n",
        "\n",
        "sift = cv2.xfeatures2d.SIFT_create()\n",
        "bf = cv2.BFMatcher()\n",
        "for images in natsorted(os.listdir(path1)):\n",
        "    str1 = str(images)\n",
        "    img1 = os.path.join(path1, images)\n",
        "    #print(img1)\n",
        "    img1 = cv2.imread(img1)\n",
        "    kp1, des1 = sift.detectAndCompute(img1,None)\n",
        "    if len(kp1)>0:\n",
        "       for image in natsorted(os.listdir(path1)):\n",
        "           img2 = os.path.join(path1, image)\n",
        "        #print(img2)\n",
        "           str2 = str(image)\n",
        "           if (img1 != img2): # queryImage\n",
        "               img2 = cv2.imread(img2) # trainImage\n",
        "               kp2, des2 = sift.detectAndCompute(img2,None)\n",
        "            # Initiate SIFT detector\n",
        "            #sift = cv2.SIFT()            \n",
        "            # find the keypoints and descriptors with SIFT\n",
        "            # BFMatcher with default params\n",
        "               matches = bf.knnMatch(des1,des2, k=2)\n",
        "               dis = bf.match(des1,des2)\n",
        "            #----------------------------------------------\n",
        "               number_keypoints = 0\n",
        "               if len(kp1) <= len(kp2):\n",
        "                   number_keypoints = len(kp1)\n",
        "               else:\n",
        "                   number_keypoints = len(kp2)\n",
        "               good = []\n",
        "               for m,n in matches:\n",
        "                   if m.distance < 0.7*n.distance:\n",
        "                      good.append([m])\n",
        "            #print(\"Keypoints 1ST Image: \" + str(len(kp1)))\n",
        "            #print(\"Keypoints 2ND Image: \" + str(len(kp2)))\n",
        "            #print(\"GOOD Matches:\", len(good))\n",
        "               score = len(good) / number_keypoints\n",
        "            #print(\"How good it's the match: \", score) #* 100, \"%\")\n",
        "               file1.write( str1 + \" \" + str2 + \" \" + str(score)+\"\\n\")\n",
        "               print(str1 + \" \" + str2 + \" \" + str(score)) # replace with 'cos' if using cosine similarity\n",
        "file1.close()"
      ]
    },
    {
      "cell_type": "code",
      "execution_count": null,
      "metadata": {
        "id": "T3t_jv-X5wVx"
      },
      "outputs": [],
      "source": [
        ""
      ]
    }
  ],
  "metadata": {
    "kernelspec": {
      "display_name": "Python 3",
      "language": "python",
      "name": "python3"
    },
    "language_info": {
      "codemirror_mode": {
        "name": "ipython",
        "version": 3
      },
      "file_extension": ".py",
      "mimetype": "text/x-python",
      "name": "python",
      "nbconvert_exporter": "python",
      "pygments_lexer": "ipython3",
      "version": "3.7.3"
    },
    "colab": {
      "name": "sift.ipynb",
      "provenance": []
    }
  },
  "nbformat": 4,
  "nbformat_minor": 0
}